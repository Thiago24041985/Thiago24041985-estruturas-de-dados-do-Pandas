{
  "cells": [
    {
      "cell_type": "markdown",
      "metadata": {
        "id": "view-in-github",
        "colab_type": "text"
      },
      "source": [
        "<a href=\"https://colab.research.google.com/github/Thiago24041985/Thiago24041985-estruturas-de-dados-do-Pandas/blob/main/Mod4Aula2_Estruturas_de_dados_Pandas.ipynb\" target=\"_parent\"><img src=\"https://colab.research.google.com/assets/colab-badge.svg\" alt=\"Open In Colab\"/></a>"
      ]
    },
    {
      "cell_type": "markdown",
      "metadata": {
        "id": "4AavIkLcJP0H"
      },
      "source": [
        "# Introdução às estruturas de dados do Pandas"
      ]
    },
    {
      "cell_type": "code",
      "execution_count": null,
      "metadata": {
        "ExecuteTime": {
          "end_time": "2021-05-20T02:11:05.773904Z",
          "start_time": "2021-05-20T02:11:02.822729Z"
        },
        "id": "jue3nqazJP0L"
      },
      "outputs": [],
      "source": [
        "import numpy as np\n",
        "import pandas as pd"
      ]
    },
    {
      "cell_type": "markdown",
      "metadata": {
        "id": "1TuHO6IAJP0N"
      },
      "source": [
        "## Séries ``series``\n",
        "\n",
        "O tipo de estrutura ``series`` é um array com rótulos de 1 dimensão e é capaz de conter qualquer tipo de dado do Python. Os rótulos são chamados de índices (``index``). O método mais básico para criar uma série do pandas é:\n",
        "\n",
        "```python\n",
        ">>> s = pd.Series(data=dados, index=indice)\n",
        "```\n",
        "\n",
        "O parâmetro ``dados`` pode ser de diferentes tipos:\n",
        "- Lista do Python\n",
        "- Dicionário do Python\n",
        "- ND-Array\n",
        "- Valor escalar\n",
        "\n",
        "O indice é um rótulo/nome para cada linha."
      ]
    },
    {
      "cell_type": "markdown",
      "metadata": {
        "ExecuteTime": {
          "end_time": "2021-05-20T09:03:30.069791Z",
          "start_time": "2021-05-20T09:03:30.052806Z"
        },
        "id": "ZtqMLGebJP0Q"
      },
      "source": [
        "Dado essa tabela do IBGE de 2020, vamos construir uma série do pandas:\n",
        "\n",
        "| Classe | Renda Familiar (Limite inferior)|\n",
        "|:-------:|:----------------------------:|\n",
        "| A      | 20.900       |\n",
        "| B      | 10.450|\n",
        "| C      | 4.180 |\n",
        "| D      | 2.090  |\n",
        "| E      | 0                |"
      ]
    },
    {
      "cell_type": "markdown",
      "metadata": {
        "id": "j5djZxXqJP0R"
      },
      "source": [
        "### Série: a partir de uma lista"
      ]
    },
    {
      "cell_type": "code",
      "execution_count": null,
      "metadata": {
        "ExecuteTime": {
          "end_time": "2021-05-23T16:21:42.378182Z",
          "start_time": "2021-05-23T16:21:41.965492Z"
        },
        "id": "HP8gpnuCJP0S"
      },
      "outputs": [],
      "source": [
        "dados = [20900,10450,4180,2090,0]\n",
        "classeSocialSemIndex = pd.Series(dados)\n",
        "classeSocialSemIndex"
      ]
    },
    {
      "cell_type": "code",
      "execution_count": null,
      "metadata": {
        "ExecuteTime": {
          "end_time": "2021-05-23T16:21:42.506987Z",
          "start_time": "2021-05-23T16:21:42.477006Z"
        },
        "id": "fF6KzGJnJP0T"
      },
      "outputs": [],
      "source": [
        "classeSocialSemIndex = pd.Series([20900,10450,4180,2090,0])\n",
        "classeSocialSemIndex"
      ]
    },
    {
      "cell_type": "code",
      "execution_count": null,
      "metadata": {
        "ExecuteTime": {
          "end_time": "2021-05-23T16:21:43.230161Z",
          "start_time": "2021-05-23T16:21:43.185106Z"
        },
        "id": "tVU5NkEuJP0U"
      },
      "outputs": [],
      "source": [
        "classeSocialSemIndex[0]"
      ]
    },
    {
      "cell_type": "code",
      "execution_count": null,
      "metadata": {
        "ExecuteTime": {
          "end_time": "2021-05-23T16:21:43.307102Z",
          "start_time": "2021-05-23T16:21:43.294124Z"
        },
        "id": "UdE8qpqKJP0V"
      },
      "outputs": [],
      "source": [
        "classeSocialSemIndex.index"
      ]
    },
    {
      "cell_type": "code",
      "execution_count": null,
      "metadata": {
        "ExecuteTime": {
          "end_time": "2021-05-23T16:21:43.386144Z",
          "start_time": "2021-05-23T16:21:43.358079Z"
        },
        "id": "LzB7sExVJP0V"
      },
      "outputs": [],
      "source": [
        "classeSocialComIndex = pd.Series([20900, 10450, 4180, 2090, 0],\n",
        "                                 index=['A', 'B', 'C', 'D', 'E'])\n",
        "classeSocialComIndex"
      ]
    },
    {
      "cell_type": "code",
      "execution_count": null,
      "metadata": {
        "ExecuteTime": {
          "end_time": "2021-05-23T16:21:43.465082Z",
          "start_time": "2021-05-23T16:21:43.437100Z"
        },
        "id": "flIUq2_rJP0W"
      },
      "outputs": [],
      "source": [
        "classeSocialComIndex['A']"
      ]
    },
    {
      "cell_type": "code",
      "execution_count": null,
      "metadata": {
        "ExecuteTime": {
          "end_time": "2021-05-23T16:21:43.701006Z",
          "start_time": "2021-05-23T16:21:43.546046Z"
        },
        "id": "V_badNutJP0W"
      },
      "outputs": [],
      "source": [
        "classeSocialComIndex.values"
      ]
    },
    {
      "cell_type": "code",
      "execution_count": null,
      "metadata": {
        "ExecuteTime": {
          "end_time": "2021-05-23T16:21:43.810957Z",
          "start_time": "2021-05-23T16:21:43.750977Z"
        },
        "id": "OqzFXUeCJP0X"
      },
      "outputs": [],
      "source": [
        "# do tipo pd.Index\n",
        "classeSocialComIndex.index"
      ]
    },
    {
      "cell_type": "code",
      "execution_count": null,
      "metadata": {
        "ExecuteTime": {
          "end_time": "2021-05-23T16:21:44.079529Z",
          "start_time": "2021-05-23T16:21:43.876919Z"
        },
        "id": "TJCL6dkQJP0Y"
      },
      "outputs": [],
      "source": [
        "classeSocialComIndex['A':'C']"
      ]
    },
    {
      "cell_type": "code",
      "execution_count": null,
      "metadata": {
        "ExecuteTime": {
          "end_time": "2021-05-23T16:21:44.143490Z",
          "start_time": "2021-05-23T16:21:44.112510Z"
        },
        "id": "f5gyhFNIJP0Z"
      },
      "outputs": [],
      "source": [
        "classeSocialComIndex = pd.Series([20900, 10450, 4180, 2090, 0],\n",
        "                                 index=[10, 1, 3, 9, 8])\n",
        "classeSocialComIndex"
      ]
    },
    {
      "cell_type": "code",
      "execution_count": null,
      "metadata": {
        "ExecuteTime": {
          "end_time": "2021-05-23T16:21:44.239437Z",
          "start_time": "2021-05-23T16:21:44.176487Z"
        },
        "id": "eu1fK7V6JP0Z"
      },
      "outputs": [],
      "source": [
        "classeSocialComIndex[8]"
      ]
    },
    {
      "cell_type": "markdown",
      "metadata": {
        "id": "kLyzWDwCJP0Z"
      },
      "source": [
        "### Série: a partir de um dicionário"
      ]
    },
    {
      "cell_type": "markdown",
      "metadata": {
        "id": "VRSIi6uoJP0a"
      },
      "source": [
        "| Classe        | Renda Familiar (Limite inferior)|\n",
        "|:-------:      |:-------------------------------:|\n",
        "| classe_A       | 20.900                          |\n",
        "| classe_B       | 10.450                          |\n",
        "| classe_C       | 4.180                           |\n",
        "| classe_D       | 2.090                           |\n",
        "| classe_E       | 0                               |"
      ]
    },
    {
      "cell_type": "code",
      "execution_count": null,
      "metadata": {
        "ExecuteTime": {
          "end_time": "2021-05-23T16:21:45.044578Z",
          "start_time": "2021-05-23T16:21:44.454010Z"
        },
        "id": "DoZo-4VWJP0a"
      },
      "outputs": [],
      "source": [
        "classeSocialDict = {'classe_A': 20900,\n",
        "                   'classe_B': 10450,\n",
        "                   'classe_C': 4180,\n",
        "                   'classe_D': 2090,\n",
        "                   'classe_E': 0}\n",
        "classeSocialSeries = pd.Series(classeSocialDict)\n",
        "classeSocialSeries"
      ]
    },
    {
      "cell_type": "code",
      "execution_count": null,
      "metadata": {
        "ExecuteTime": {
          "end_time": "2021-05-23T16:21:45.092533Z",
          "start_time": "2021-05-23T16:21:45.082552Z"
        },
        "id": "xk0y0_QtJP0a"
      },
      "outputs": [],
      "source": [
        "classeSocialSeries['classe_C']"
      ]
    },
    {
      "cell_type": "code",
      "execution_count": null,
      "metadata": {
        "ExecuteTime": {
          "end_time": "2021-05-23T16:21:45.329540Z",
          "start_time": "2021-05-23T16:21:45.143517Z"
        },
        "id": "bZk4NXF1JP0b"
      },
      "outputs": [],
      "source": [
        "classeSocialSeries['classe_C':'classe_E']"
      ]
    },
    {
      "cell_type": "markdown",
      "metadata": {
        "id": "XeyHFxmWJP0b"
      },
      "source": [
        "### Série: a partir de um NDArray"
      ]
    },
    {
      "cell_type": "code",
      "execution_count": null,
      "metadata": {
        "ExecuteTime": {
          "end_time": "2021-05-23T16:21:45.487410Z",
          "start_time": "2021-05-23T16:21:45.394463Z"
        },
        "scrolled": true,
        "id": "NUfMBxYVJP0b"
      },
      "outputs": [],
      "source": [
        "pd.Series(np.random.randn(5))"
      ]
    },
    {
      "cell_type": "markdown",
      "metadata": {
        "id": "k5UYO9ZpJP0b"
      },
      "source": [
        "### Série: a partir de um escalar"
      ]
    },
    {
      "cell_type": "code",
      "execution_count": null,
      "metadata": {
        "ExecuteTime": {
          "end_time": "2021-05-23T16:21:45.582355Z",
          "start_time": "2021-05-23T16:21:45.553371Z"
        },
        "id": "6pemXgOyJP0c"
      },
      "outputs": [],
      "source": [
        "pd.Series(5, index=[0,1,2,3,4])"
      ]
    },
    {
      "cell_type": "markdown",
      "metadata": {
        "id": "uCRMh8JqJP0c"
      },
      "source": [
        "## Pandas Dataframe"
      ]
    },
    {
      "cell_type": "markdown",
      "metadata": {
        "id": "UnDp3ch2JP0c"
      },
      "source": [
        "``DataFrame`` é uma estrutura de dados com rótulos de 2 dimensões, podendo ter  colunas de diferentes tipos. É comparável às tabelas do excel ou de bancos de dados. É a estrutura de dados do pandas mais usada.\n"
      ]
    },
    {
      "cell_type": "markdown",
      "metadata": {
        "id": "Hbg9sYq3JP0c"
      },
      "source": [
        "### DataFrame: a partir de uma lista"
      ]
    },
    {
      "cell_type": "code",
      "execution_count": null,
      "metadata": {
        "ExecuteTime": {
          "end_time": "2021-05-23T16:21:46.256229Z",
          "start_time": "2021-05-23T16:21:46.237257Z"
        },
        "id": "w3CP26U1JP0c"
      },
      "outputs": [],
      "source": [
        "pd.DataFrame([2,4,6,8,10])"
      ]
    },
    {
      "cell_type": "code",
      "execution_count": null,
      "metadata": {
        "ExecuteTime": {
          "end_time": "2021-05-23T16:21:46.432218Z",
          "start_time": "2021-05-23T16:21:46.414229Z"
        },
        "id": "jQuDCOxAJP0d"
      },
      "outputs": [],
      "source": [
        "pd.DataFrame([2,4,6,8,10],\n",
        "             columns=['par'])"
      ]
    },
    {
      "cell_type": "markdown",
      "metadata": {
        "id": "qb1x620vJP0d"
      },
      "source": [
        "### DataFrame: a partir de um dicionário com lista"
      ]
    },
    {
      "cell_type": "code",
      "execution_count": null,
      "metadata": {
        "ExecuteTime": {
          "end_time": "2021-05-23T16:21:46.795540Z",
          "start_time": "2021-05-23T16:21:46.781533Z"
        },
        "id": "iVfqxm8nJP0d"
      },
      "outputs": [],
      "source": [
        "pd.DataFrame({'impar': [1,3,5,7,9]})"
      ]
    },
    {
      "cell_type": "markdown",
      "metadata": {
        "id": "T4xV6iSWJP0e"
      },
      "source": [
        "### DataFrame: a partir de um dicionário com 2 listas"
      ]
    },
    {
      "cell_type": "code",
      "execution_count": null,
      "metadata": {
        "ExecuteTime": {
          "end_time": "2021-05-23T16:21:47.205689Z",
          "start_time": "2021-05-23T16:21:47.132905Z"
        },
        "id": "Qd6tUY9LJP0e"
      },
      "outputs": [],
      "source": [
        "pd.DataFrame({'impar': [1,3,5,7,9],\n",
        "              'par': [2,4,6,8,10]})"
      ]
    },
    {
      "cell_type": "markdown",
      "metadata": {
        "id": "qrmUH4v7JP0f"
      },
      "source": [
        "| Estado           | População |  Área (m2)|\n",
        "|:----------------:|:---------:|:-------:  |\n",
        "| **Amazonas**         | 3.938.336 | 1.559.167 |\n",
        "| **São Paulo**        | 44.396.484| 248.219   |\n",
        "| **Bahia**            | 15.203.934| 564.760   |\n",
        "| **Minas Gerais**     | 20.869.101| 586.521   |\n",
        "| **Roraima**          | 505.665   | 223.644   |\n",
        "| **Distrito Federal** | 2.914.830 | 5.760     |"
      ]
    },
    {
      "cell_type": "markdown",
      "metadata": {
        "id": "1EXQCk5JJP0g"
      },
      "source": [
        "### DataFrame: a partir de um dicionário com 1 série do pandas"
      ]
    },
    {
      "cell_type": "code",
      "execution_count": null,
      "metadata": {
        "ExecuteTime": {
          "end_time": "2021-05-23T16:21:47.738877Z",
          "start_time": "2021-05-23T16:21:47.668250Z"
        },
        "id": "kqPWScFTJP0h"
      },
      "outputs": [],
      "source": [
        "popBrasilDict = {\n",
        "    'Amazonas': 3938336,\n",
        "    'São Paulo': 44396484,\n",
        "    'Bahia': 15203934,\n",
        "    'Minas Gerais': 20869101,\n",
        "    'Roraima': 505665,\n",
        "    'Distrito Federal': 2914830\n",
        "}\n",
        "popBrasilSerie  =  pd.Series(popBrasilDict)\n",
        "popBrasilSerie"
      ]
    },
    {
      "cell_type": "code",
      "execution_count": null,
      "metadata": {
        "ExecuteTime": {
          "end_time": "2021-05-23T16:21:47.881564Z",
          "start_time": "2021-05-23T16:21:47.853582Z"
        },
        "id": "vwi4MErmJP0i"
      },
      "outputs": [],
      "source": [
        "pd.DataFrame({'População': popBrasilSerie})"
      ]
    },
    {
      "cell_type": "code",
      "execution_count": null,
      "metadata": {
        "ExecuteTime": {
          "end_time": "2021-05-23T16:21:48.055513Z",
          "start_time": "2021-05-23T16:21:48.037511Z"
        },
        "id": "V9CsfTtqJP0i"
      },
      "outputs": [],
      "source": [
        "areaBrasilDict = {\n",
        "    'Amazonas': 1559167,\n",
        "    'São Paulo': 248219,\n",
        "    'Bahia': 564760,\n",
        "    'Minas Gerais': 586521,\n",
        "    'Roraima': 223644,\n",
        "    'Distrito Federal': 5760\n",
        "}\n",
        "\n",
        "areaBrasilSerie  =  pd.Series(areaBrasilDict)\n",
        "areaBrasilSerie"
      ]
    },
    {
      "cell_type": "code",
      "execution_count": null,
      "metadata": {
        "ExecuteTime": {
          "end_time": "2021-05-23T16:21:48.229161Z",
          "start_time": "2021-05-23T16:21:48.220168Z"
        },
        "id": "81jD8tX1JP0k"
      },
      "outputs": [],
      "source": [
        "pd.DataFrame({'Área': areaBrasilSerie})"
      ]
    },
    {
      "cell_type": "markdown",
      "metadata": {
        "id": "elqHKMn9JP0k"
      },
      "source": [
        "### DataFrame: a partir de um dicionário com 2 séries do pandas"
      ]
    },
    {
      "cell_type": "code",
      "execution_count": null,
      "metadata": {
        "ExecuteTime": {
          "end_time": "2021-05-23T16:21:48.706629Z",
          "start_time": "2021-05-23T16:21:48.597312Z"
        },
        "id": "_PDdJ19mJP0l"
      },
      "outputs": [],
      "source": [
        "estadosBrasil = pd.DataFrame({'População': popBrasilSerie,\n",
        "                       'Área': areaBrasilSerie})\n",
        "estadosBrasil"
      ]
    },
    {
      "cell_type": "code",
      "execution_count": null,
      "metadata": {
        "ExecuteTime": {
          "end_time": "2021-05-23T16:21:48.799577Z",
          "start_time": "2021-05-23T16:21:48.780588Z"
        },
        "id": "M9wLDWAkJP0l"
      },
      "outputs": [],
      "source": [
        "estadosBrasil.index"
      ]
    },
    {
      "cell_type": "code",
      "execution_count": null,
      "metadata": {
        "ExecuteTime": {
          "end_time": "2021-05-23T16:21:48.972417Z",
          "start_time": "2021-05-23T16:21:48.958427Z"
        },
        "id": "YJOaUVLbJP0l"
      },
      "outputs": [],
      "source": [
        "estadosBrasil.columns"
      ]
    },
    {
      "cell_type": "code",
      "execution_count": null,
      "metadata": {
        "ExecuteTime": {
          "end_time": "2021-05-23T16:21:49.162356Z",
          "start_time": "2021-05-23T16:21:49.149349Z"
        },
        "id": "BWUo0MH6JP0m"
      },
      "outputs": [],
      "source": [
        "estadosBrasil['População']"
      ]
    },
    {
      "cell_type": "code",
      "execution_count": null,
      "metadata": {
        "ExecuteTime": {
          "end_time": "2021-05-23T16:21:49.366353Z",
          "start_time": "2021-05-23T16:21:49.333371Z"
        },
        "id": "sDscPQBqJP0m"
      },
      "outputs": [],
      "source": [
        "estadosBrasil['Área']"
      ]
    },
    {
      "cell_type": "markdown",
      "metadata": {
        "id": "M9XNZMdsJP0m"
      },
      "source": [
        "### Criando uma nova coluna"
      ]
    },
    {
      "cell_type": "code",
      "execution_count": null,
      "metadata": {
        "ExecuteTime": {
          "end_time": "2021-05-23T16:21:50.066407Z",
          "start_time": "2021-05-23T16:21:49.710546Z"
        },
        "id": "hayAJk2SJP0n"
      },
      "outputs": [],
      "source": [
        "estadosBrasil['Densidade'] = estadosBrasil['População'] / estadosBrasil['Área']\n",
        "estadosBrasil"
      ]
    },
    {
      "cell_type": "code",
      "execution_count": null,
      "metadata": {
        "ExecuteTime": {
          "end_time": "2021-05-23T16:21:52.143338Z",
          "start_time": "2021-05-23T16:21:50.132350Z"
        },
        "id": "sw5m6W3MJP0n"
      },
      "outputs": [],
      "source": [
        "estadosBrasil['População'].plot(kind='bar');"
      ]
    },
    {
      "cell_type": "code",
      "execution_count": null,
      "metadata": {
        "ExecuteTime": {
          "end_time": "2021-05-23T16:21:52.536455Z",
          "start_time": "2021-05-23T16:21:52.226373Z"
        },
        "id": "bT1HofYsJP0o"
      },
      "outputs": [],
      "source": [
        "estadosBrasil['Área'].plot(kind='bar');"
      ]
    },
    {
      "cell_type": "code",
      "execution_count": null,
      "metadata": {
        "ExecuteTime": {
          "end_time": "2021-05-23T16:21:52.882583Z",
          "start_time": "2021-05-23T16:21:52.601403Z"
        },
        "scrolled": true,
        "id": "veL-1_dzJP0o"
      },
      "outputs": [],
      "source": [
        "estadosBrasil['Densidade'].plot(kind='bar');"
      ]
    },
    {
      "cell_type": "code",
      "execution_count": null,
      "metadata": {
        "id": "oeMlOj-CJP0o"
      },
      "outputs": [],
      "source": []
    }
  ],
  "metadata": {
    "kernelspec": {
      "display_name": "Python 3",
      "language": "python",
      "name": "python3"
    },
    "language_info": {
      "codemirror_mode": {
        "name": "ipython",
        "version": 3
      },
      "file_extension": ".py",
      "mimetype": "text/x-python",
      "name": "python",
      "nbconvert_exporter": "python",
      "pygments_lexer": "ipython3",
      "version": "3.8.5"
    },
    "varInspector": {
      "cols": {
        "lenName": 16,
        "lenType": 16,
        "lenVar": 40
      },
      "kernels_config": {
        "python": {
          "delete_cmd_postfix": "",
          "delete_cmd_prefix": "del ",
          "library": "var_list.py",
          "varRefreshCmd": "print(var_dic_list())"
        },
        "r": {
          "delete_cmd_postfix": ") ",
          "delete_cmd_prefix": "rm(",
          "library": "var_list.r",
          "varRefreshCmd": "cat(var_dic_list()) "
        }
      },
      "types_to_exclude": [
        "module",
        "function",
        "builtin_function_or_method",
        "instance",
        "_Feature"
      ],
      "window_display": false
    },
    "colab": {
      "provenance": [],
      "include_colab_link": true
    }
  },
  "nbformat": 4,
  "nbformat_minor": 0
}